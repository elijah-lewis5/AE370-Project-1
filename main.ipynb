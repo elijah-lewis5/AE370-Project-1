{
 "cells": [
  {
   "cell_type": "markdown",
   "id": "7efa76f0",
   "metadata": {},
   "source": [
    "# AE 370 Project 1 - A Numerical Method for a Dynamical System\n",
    "  \n",
    "**Group Members:**  \n",
    "- Elijah Lewis \n",
    "- Raghav Mansharamani\n",
    "- Matthew Greenstein\n",
    "- Jackson Rees\n",
    "\n",
    "---\n",
    "\n",
    "## Project Overview\n",
    "In this project, we investigate an engineering-relevant dynamical system and apply a numerical method to explore its behavior.  \n",
    "\n",
    "The problem we chose was...\n",
    "\n",
    "---\n",
    "\n",
    "## Repository Structure\n",
    "\n",
    "```text\n",
    "AE_370_Project_1/\n",
    "│\n",
    "├── source/\n",
    "│   ├── reactions.py          # ODEs and reaction kinetics\n",
    "│   ├── numerical_methods.py  # Integration algorithms (RK4, AB3)\n",
    "│   ├── convergence_tests.py  # Error and stability validation\n",
    "│   └── plotting_utils.py     # Visualization and post-processing\n",
    "│\n",
    "├── main.ipynb                # Main notebook (this file)\n",
    "├── data/                     # Initial condition files\n",
    "├── results/                  # Generated plots and figures\n",
    "├── README.md\n",
    "├── project_requirements.pdf\n",
    "├── requirements.txt\n",
    "└── .gitignore\n",
    "```\n",
    "\n",
    "---\n",
    "## Acknowledgements"
   ]
  },
  {
   "cell_type": "code",
   "execution_count": 1,
   "id": "13e99bf7",
   "metadata": {},
   "outputs": [
    {
     "name": "stdout",
     "output_type": "stream",
     "text": [
      "Hello Matthew's world!\n",
      "Hello Raghav's world!\n",
      "Hello Elijah's world!\n",
      "Hello Jackson's world!\n"
     ]
    }
   ],
   "source": [
    "# Import libraries\n",
    "import numpy as np\n",
    "import matplotlib.pyplot as plt\n",
    "\n",
    "\n",
    "# Import functions\n",
    "from source.reactions import *\n",
    "from source.numerical_methods import euler_forward\n",
    "from source.convergence_tests import *\n",
    "from source.plotting_utils import *\n",
    "\n",
    "\n",
    "# Import initial conditions\n",
    "from data.initial_conditions import methane_conditions"
   ]
  },
  {
   "cell_type": "markdown",
   "id": "0139f655",
   "metadata": {},
   "source": [
    "# Defining the Dynamical System\n",
    "\n",
    "---\n"
   ]
  },
  {
   "cell_type": "code",
   "execution_count": null,
   "id": "a16e3a82",
   "metadata": {},
   "outputs": [],
   "source": []
  }
 ],
 "metadata": {
  "kernelspec": {
   "display_name": "Python 3",
   "language": "python",
   "name": "python3"
  },
  "language_info": {
   "codemirror_mode": {
    "name": "ipython",
    "version": 3
   },
   "file_extension": ".py",
   "mimetype": "text/x-python",
   "name": "python",
   "nbconvert_exporter": "python",
   "pygments_lexer": "ipython3",
   "version": "3.13.5"
  }
 },
 "nbformat": 4,
 "nbformat_minor": 5
}
